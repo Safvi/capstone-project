{
 "cells": [
  {
   "cell_type": "code",
   "execution_count": 1,
   "id": "5a9edce5-90cc-4377-99aa-a1c9797436b0",
   "metadata": {
    "execution": {
     "iopub.execute_input": "2025-09-29T23:51:33.862564Z",
     "iopub.status.busy": "2025-09-29T23:51:33.862564Z",
     "iopub.status.idle": "2025-09-29T23:51:34.395146Z",
     "shell.execute_reply": "2025-09-29T23:51:34.395146Z"
    }
   },
   "outputs": [],
   "source": [
    "import pandas as pd\n"
   ]
  },
  {
   "cell_type": "markdown",
   "id": "76a29af8-d831-4163-a9de-040b9a3f2a96",
   "metadata": {},
   "source": [
    "# Load all Cleaned Datasets"
   ]
  },
  {
   "cell_type": "code",
   "execution_count": 2,
   "id": "223020e1-407d-4cd4-a982-faf971411349",
   "metadata": {
    "execution": {
     "iopub.execute_input": "2025-09-29T23:51:34.397911Z",
     "iopub.status.busy": "2025-09-29T23:51:34.397911Z",
     "iopub.status.idle": "2025-09-29T23:51:34.440794Z",
     "shell.execute_reply": "2025-09-29T23:51:34.440794Z"
    }
   },
   "outputs": [
    {
     "name": "stdout",
     "output_type": "stream",
     "text": [
      "Files loaded\n"
     ]
    }
   ],
   "source": [
    "patients = pd.read_csv(\"../data/cleaned/patients_cleaned.csv\")\n",
    "doctors = pd.read_csv(\"../data/cleaned/doctors_cleaned.csv\")\n",
    "visits = pd.read_csv(\"../data/cleaned/visits_cleaned.csv\")\n",
    "billing = pd.read_csv(\"../data/cleaned/billing_cleaned.csv\")\n",
    "\n",
    "# Preview\n",
    "print(\"Files loaded\")"
   ]
  },
  {
   "cell_type": "markdown",
   "id": "cf1afa60-41b3-47b4-9da0-4c8842ff328c",
   "metadata": {},
   "source": [
    "# Merge Visits + Patients"
   ]
  },
  {
   "cell_type": "code",
   "execution_count": 3,
   "id": "d73aebd0-363a-4560-81a0-15782c44b5b6",
   "metadata": {
    "execution": {
     "iopub.execute_input": "2025-09-29T23:51:34.443740Z",
     "iopub.status.busy": "2025-09-29T23:51:34.443740Z",
     "iopub.status.idle": "2025-09-29T23:51:34.454240Z",
     "shell.execute_reply": "2025-09-29T23:51:34.454240Z"
    }
   },
   "outputs": [
    {
     "name": "stdout",
     "output_type": "stream",
     "text": [
      "     visit_id  patient_id  doctor_id  visit_date               reason  \\\n",
      "0           1          97         41  2022-10-15     Injury treatment   \n",
      "1           2         134         40  2024-09-28           Chest pain   \n",
      "2           3         323          2  2023-03-20            Back pain   \n",
      "3           4         457         21  2023-12-28  High blood pressure   \n",
      "4           5         421         41  2025-06-24  Diabetes management   \n",
      "..        ...         ...        ...         ...                  ...   \n",
      "995       996         236         19  2024-12-05           Chest pain   \n",
      "996       997         400         16  2023-04-27     Injury treatment   \n",
      "997       998         293         29  2023-10-06      Follow-up visit   \n",
      "998       999         236         28  2025-01-25         Flu symptoms   \n",
      "999      1000         440         26  2024-02-16            Back pain   \n",
      "\n",
      "    diagnosis               prescription  cost first_name   last_name  \\\n",
      "0      Asthma            Increase dosage   441    Skippie       Spick   \n",
      "1         Flu     Referred to specialist   877    Desmund        Jump   \n",
      "2     Allergy  Recommended physiotherapy  4157     Berkie      Wiffen   \n",
      "3      Injury     Referred to specialist  4466     Barrie       Spyer   \n",
      "4         Flu           Advised MRI scan  4014    Gerardo  Yakebovich   \n",
      "..        ...                        ...   ...        ...         ...   \n",
      "995    Asthma     Prescribed antibiotics   919   Engracia  Kilvington   \n",
      "996    Injury        Blood test required  3906     Gerick       Custy   \n",
      "997       Flu            Increase dosage  1614   Florenza     Timothy   \n",
      "998   Allergy     Prescribed antibiotics  2803   Engracia  Kilvington   \n",
      "999    Injury     Prescribed antibiotics  4434     Lavena       Styan   \n",
      "\n",
      "       gender date_of_birth                         email  \n",
      "0        Male    2015-09-06            sspick2o@google.pl  \n",
      "1        Male    1951-09-22               djump3p@fc2.com  \n",
      "2        Male    1994-03-11          bwiffen8y@boston.com  \n",
      "3        Male    1957-12-09          bspyerco@cbsnews.com  \n",
      "4        Male    1980-10-16          gyakebovichbo@360.cn  \n",
      "..        ...           ...                           ...  \n",
      "995    Female    2009-03-04    ekilvington6j@springer.com  \n",
      "996      Male    1954-05-24           gcustyb3@github.com  \n",
      "997  Bigender    1970-11-04  ftimothy84@timesonline.co.uk  \n",
      "998    Female    2009-03-04    ekilvington6j@springer.com  \n",
      "999    Female    2003-12-23          lstyanc7@webnode.com  \n",
      "\n",
      "[1000 rows x 13 columns]\n"
     ]
    }
   ],
   "source": [
    "visits_patients = visits.merge(patients, on=\"patient_id\", how=\"left\")\n",
    "print(visits_patients)"
   ]
  },
  {
   "cell_type": "markdown",
   "id": "d61d25dd-fbe5-4267-b991-b54999318e17",
   "metadata": {},
   "source": [
    "# Merge Result (visits_patients) + Doctors"
   ]
  },
  {
   "cell_type": "code",
   "execution_count": 4,
   "id": "fc52f52f-c7b6-44c8-8154-b46aefca853d",
   "metadata": {
    "execution": {
     "iopub.execute_input": "2025-09-29T23:51:34.455555Z",
     "iopub.status.busy": "2025-09-29T23:51:34.455555Z",
     "iopub.status.idle": "2025-09-29T23:51:34.464997Z",
     "shell.execute_reply": "2025-09-29T23:51:34.464997Z"
    }
   },
   "outputs": [
    {
     "name": "stdout",
     "output_type": "stream",
     "text": [
      "     visit_id  patient_id  doctor_id  visit_date               reason  \\\n",
      "0           1          97         41  2022-10-15     Injury treatment   \n",
      "1           2         134         40  2024-09-28           Chest pain   \n",
      "2           3         323          2  2023-03-20            Back pain   \n",
      "3           4         457         21  2023-12-28  High blood pressure   \n",
      "4           5         421         41  2025-06-24  Diabetes management   \n",
      "..        ...         ...        ...         ...                  ...   \n",
      "995       996         236         19  2024-12-05           Chest pain   \n",
      "996       997         400         16  2023-04-27     Injury treatment   \n",
      "997       998         293         29  2023-10-06      Follow-up visit   \n",
      "998       999         236         28  2025-01-25         Flu symptoms   \n",
      "999      1000         440         26  2024-02-16            Back pain   \n",
      "\n",
      "    diagnosis               prescription  cost first_name   last_name  \\\n",
      "0      Asthma            Increase dosage   441    Skippie       Spick   \n",
      "1         Flu     Referred to specialist   877    Desmund        Jump   \n",
      "2     Allergy  Recommended physiotherapy  4157     Berkie      Wiffen   \n",
      "3      Injury     Referred to specialist  4466     Barrie       Spyer   \n",
      "4         Flu           Advised MRI scan  4014    Gerardo  Yakebovich   \n",
      "..        ...                        ...   ...        ...         ...   \n",
      "995    Asthma     Prescribed antibiotics   919   Engracia  Kilvington   \n",
      "996    Injury        Blood test required  3906     Gerick       Custy   \n",
      "997       Flu            Increase dosage  1614   Florenza     Timothy   \n",
      "998   Allergy     Prescribed antibiotics  2803   Engracia  Kilvington   \n",
      "999    Injury     Prescribed antibiotics  4434     Lavena       Styan   \n",
      "\n",
      "       gender date_of_birth                         email               name  \\\n",
      "0        Male    2015-09-06            sspick2o@google.pl       Vanda Dorran   \n",
      "1        Male    1951-09-22               djump3p@fc2.com    Aguste Kneebone   \n",
      "2        Male    1994-03-11          bwiffen8y@boston.com      Early Bohling   \n",
      "3        Male    1957-12-09          bspyerco@cbsnews.com       Albie Meeron   \n",
      "4        Male    1980-10-16          gyakebovichbo@360.cn       Vanda Dorran   \n",
      "..        ...           ...                           ...                ...   \n",
      "995    Female    2009-03-04    ekilvington6j@springer.com       Cammi Aylett   \n",
      "996      Male    1954-05-24           gcustyb3@github.com        Lefty Dandy   \n",
      "997  Bigender    1970-11-04  ftimothy84@timesonline.co.uk      Jade Alenshev   \n",
      "998    Female    2009-03-04    ekilvington6j@springer.com  Friedrich Lemerie   \n",
      "999    Female    2003-12-23          lstyanc7@webnode.com       Casi Pinchon   \n",
      "\n",
      "    specialization  \n",
      "0      Dermatology  \n",
      "1      Orthopedics  \n",
      "2       Pediatrics  \n",
      "3    Endocrinology  \n",
      "4      Dermatology  \n",
      "..             ...  \n",
      "995       Oncology  \n",
      "996  Endocrinology  \n",
      "997    Dermatology  \n",
      "998     Psychiatry  \n",
      "999     Pediatrics  \n",
      "\n",
      "[1000 rows x 15 columns]\n"
     ]
    }
   ],
   "source": [
    "visits_patients_doctors = visits_patients.merge(doctors, on=\"doctor_id\", how=\"left\")\n",
    "print(visits_patients_doctors)"
   ]
  },
  {
   "cell_type": "markdown",
   "id": "390df0a0-609e-4ce2-9831-5da72cc76ef1",
   "metadata": {},
   "source": [
    "# Merge Result(visits_patients_doctors) + Billing"
   ]
  },
  {
   "cell_type": "code",
   "execution_count": 5,
   "id": "d54db740-e634-4561-a07a-14ebac67fc03",
   "metadata": {
    "execution": {
     "iopub.execute_input": "2025-09-29T23:51:34.466414Z",
     "iopub.status.busy": "2025-09-29T23:51:34.466414Z",
     "iopub.status.idle": "2025-09-29T23:51:34.476375Z",
     "shell.execute_reply": "2025-09-29T23:51:34.476375Z"
    }
   },
   "outputs": [
    {
     "name": "stdout",
     "output_type": "stream",
     "text": [
      "     visit_id  patient_id  doctor_id  visit_date               reason  \\\n",
      "0           1          97         41  2022-10-15     Injury treatment   \n",
      "1           2         134         40  2024-09-28           Chest pain   \n",
      "2           3         323          2  2023-03-20            Back pain   \n",
      "3           4         457         21  2023-12-28  High blood pressure   \n",
      "4           5         421         41  2025-06-24  Diabetes management   \n",
      "..        ...         ...        ...         ...                  ...   \n",
      "995       996         236         19  2024-12-05           Chest pain   \n",
      "996       997         400         16  2023-04-27     Injury treatment   \n",
      "997       998         293         29  2023-10-06      Follow-up visit   \n",
      "998       999         236         28  2025-01-25         Flu symptoms   \n",
      "999      1000         440         26  2024-02-16            Back pain   \n",
      "\n",
      "    diagnosis               prescription  cost first_name   last_name  \\\n",
      "0      Asthma            Increase dosage   441    Skippie       Spick   \n",
      "1         Flu     Referred to specialist   877    Desmund        Jump   \n",
      "2     Allergy  Recommended physiotherapy  4157     Berkie      Wiffen   \n",
      "3      Injury     Referred to specialist  4466     Barrie       Spyer   \n",
      "4         Flu           Advised MRI scan  4014    Gerardo  Yakebovich   \n",
      "..        ...                        ...   ...        ...         ...   \n",
      "995    Asthma     Prescribed antibiotics   919   Engracia  Kilvington   \n",
      "996    Injury        Blood test required  3906     Gerick       Custy   \n",
      "997       Flu            Increase dosage  1614   Florenza     Timothy   \n",
      "998   Allergy     Prescribed antibiotics  2803   Engracia  Kilvington   \n",
      "999    Injury     Prescribed antibiotics  4434     Lavena       Styan   \n",
      "\n",
      "       gender date_of_birth                         email               name  \\\n",
      "0        Male    2015-09-06            sspick2o@google.pl       Vanda Dorran   \n",
      "1        Male    1951-09-22               djump3p@fc2.com    Aguste Kneebone   \n",
      "2        Male    1994-03-11          bwiffen8y@boston.com      Early Bohling   \n",
      "3        Male    1957-12-09          bspyerco@cbsnews.com       Albie Meeron   \n",
      "4        Male    1980-10-16          gyakebovichbo@360.cn       Vanda Dorran   \n",
      "..        ...           ...                           ...                ...   \n",
      "995    Female    2009-03-04    ekilvington6j@springer.com       Cammi Aylett   \n",
      "996      Male    1954-05-24           gcustyb3@github.com        Lefty Dandy   \n",
      "997  Bigender    1970-11-04  ftimothy84@timesonline.co.uk      Jade Alenshev   \n",
      "998    Female    2009-03-04    ekilvington6j@springer.com  Friedrich Lemerie   \n",
      "999    Female    2003-12-23          lstyanc7@webnode.com       Casi Pinchon   \n",
      "\n",
      "    specialization  billing_id insurance_provider  amount_paid payment_date  \n",
      "0      Dermatology           1         Blue Cross       405.85   2022-10-30  \n",
      "1      Orthopedics           2      United Health       736.87   2024-10-03  \n",
      "2       Pediatrics           3              Cigna      3923.57   2023-04-01  \n",
      "3    Endocrinology           4              Aetna      3836.85   2024-01-23  \n",
      "4      Dermatology           5           Self-Pay      3252.24   2025-07-12  \n",
      "..             ...         ...                ...          ...          ...  \n",
      "995       Oncology         996              Cigna       854.10   2024-12-15  \n",
      "996  Endocrinology         997              Cigna      3778.28   2023-05-02  \n",
      "997    Dermatology         998              Cigna      1539.07   2023-10-23  \n",
      "998     Psychiatry         999              Aetna      2449.98   2025-01-25  \n",
      "999     Pediatrics        1000              Cigna      3581.35   2024-03-07  \n",
      "\n",
      "[1000 rows x 19 columns]\n"
     ]
    }
   ],
   "source": [
    "full_data = visits_patients_doctors.merge(billing, on=\"visit_id\", how=\"left\")\n",
    "print(full_data)\n"
   ]
  },
  {
   "cell_type": "markdown",
   "id": "84146d2e-aa8d-4bac-aa30-3f5371e9a514",
   "metadata": {},
   "source": [
    "# Save the Integrated Dataset\n"
   ]
  },
  {
   "cell_type": "code",
   "execution_count": 6,
   "id": "e3bd1f92-ac14-4a81-9045-6da30bd86de6",
   "metadata": {
    "execution": {
     "iopub.execute_input": "2025-09-29T23:51:34.477660Z",
     "iopub.status.busy": "2025-09-29T23:51:34.477660Z",
     "iopub.status.idle": "2025-09-29T23:51:34.488846Z",
     "shell.execute_reply": "2025-09-29T23:51:34.488846Z"
    }
   },
   "outputs": [
    {
     "name": "stdout",
     "output_type": "stream",
     "text": [
      "Final integrated dataset saved as final_dataset.csv\n"
     ]
    }
   ],
   "source": [
    "full_data.to_csv(\"../data/cleaned/final_dataset.csv\", index=False)\n",
    "print(\"Final integrated dataset saved as final_dataset.csv\")\n"
   ]
  },
  {
   "cell_type": "code",
   "execution_count": null,
   "id": "b6294c48-8138-478f-895f-0a779d4d8325",
   "metadata": {},
   "outputs": [],
   "source": []
  }
 ],
 "metadata": {
  "kernelspec": {
   "display_name": "Python 3 (ipykernel)",
   "language": "python",
   "name": "python3"
  },
  "language_info": {
   "codemirror_mode": {
    "name": "ipython",
    "version": 3
   },
   "file_extension": ".py",
   "mimetype": "text/x-python",
   "name": "python",
   "nbconvert_exporter": "python",
   "pygments_lexer": "ipython3",
   "version": "3.12.7"
  }
 },
 "nbformat": 4,
 "nbformat_minor": 5
}
