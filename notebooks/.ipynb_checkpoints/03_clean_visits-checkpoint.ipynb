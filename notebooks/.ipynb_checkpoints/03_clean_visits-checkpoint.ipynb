{
 "cells": [
  {
   "cell_type": "code",
   "execution_count": 2,
   "id": "5d0d99e3-e7b1-409d-a85a-d88b2b962366",
   "metadata": {},
   "outputs": [
    {
     "data": {
      "text/html": [
       "<div>\n",
       "<style scoped>\n",
       "    .dataframe tbody tr th:only-of-type {\n",
       "        vertical-align: middle;\n",
       "    }\n",
       "\n",
       "    .dataframe tbody tr th {\n",
       "        vertical-align: top;\n",
       "    }\n",
       "\n",
       "    .dataframe thead th {\n",
       "        text-align: right;\n",
       "    }\n",
       "</style>\n",
       "<table border=\"1\" class=\"dataframe\">\n",
       "  <thead>\n",
       "    <tr style=\"text-align: right;\">\n",
       "      <th></th>\n",
       "      <th>visit_id</th>\n",
       "      <th>patient_id</th>\n",
       "      <th>doctor_id</th>\n",
       "      <th>visit_date</th>\n",
       "      <th>reason</th>\n",
       "      <th>diagnosis</th>\n",
       "      <th>prescription</th>\n",
       "      <th>cost</th>\n",
       "    </tr>\n",
       "  </thead>\n",
       "  <tbody>\n",
       "    <tr>\n",
       "      <th>0</th>\n",
       "      <td>1</td>\n",
       "      <td>97</td>\n",
       "      <td>41</td>\n",
       "      <td>10/15/2022</td>\n",
       "      <td>Injury treatment</td>\n",
       "      <td>Asthma</td>\n",
       "      <td>Increase dosage</td>\n",
       "      <td>441</td>\n",
       "    </tr>\n",
       "    <tr>\n",
       "      <th>1</th>\n",
       "      <td>2</td>\n",
       "      <td>134</td>\n",
       "      <td>40</td>\n",
       "      <td>9/28/2024</td>\n",
       "      <td>Chest pain</td>\n",
       "      <td>Flu</td>\n",
       "      <td>Referred to specialist</td>\n",
       "      <td>877</td>\n",
       "    </tr>\n",
       "    <tr>\n",
       "      <th>2</th>\n",
       "      <td>3</td>\n",
       "      <td>323</td>\n",
       "      <td>2</td>\n",
       "      <td>3/20/2023</td>\n",
       "      <td>Back pain</td>\n",
       "      <td>Allergy</td>\n",
       "      <td>Recommended physiotherapy</td>\n",
       "      <td>4157</td>\n",
       "    </tr>\n",
       "    <tr>\n",
       "      <th>3</th>\n",
       "      <td>4</td>\n",
       "      <td>457</td>\n",
       "      <td>21</td>\n",
       "      <td>12/28/2023</td>\n",
       "      <td>High blood pressure</td>\n",
       "      <td>Injury</td>\n",
       "      <td>Referred to specialist</td>\n",
       "      <td>4466</td>\n",
       "    </tr>\n",
       "    <tr>\n",
       "      <th>4</th>\n",
       "      <td>5</td>\n",
       "      <td>421</td>\n",
       "      <td>41</td>\n",
       "      <td>6/24/2025</td>\n",
       "      <td>Diabetes management</td>\n",
       "      <td>Flu</td>\n",
       "      <td>Advised MRI scan</td>\n",
       "      <td>4014</td>\n",
       "    </tr>\n",
       "  </tbody>\n",
       "</table>\n",
       "</div>"
      ],
      "text/plain": [
       "   visit_id  patient_id  doctor_id  visit_date               reason diagnosis  \\\n",
       "0         1          97         41  10/15/2022     Injury treatment    Asthma   \n",
       "1         2         134         40   9/28/2024           Chest pain       Flu   \n",
       "2         3         323          2   3/20/2023            Back pain   Allergy   \n",
       "3         4         457         21  12/28/2023  High blood pressure    Injury   \n",
       "4         5         421         41   6/24/2025  Diabetes management       Flu   \n",
       "\n",
       "                prescription  cost  \n",
       "0            Increase dosage   441  \n",
       "1     Referred to specialist   877  \n",
       "2  Recommended physiotherapy  4157  \n",
       "3     Referred to specialist  4466  \n",
       "4           Advised MRI scan  4014  "
      ]
     },
     "execution_count": 2,
     "metadata": {},
     "output_type": "execute_result"
    }
   ],
   "source": [
    "import pandas as pd\n",
    "\n",
    "# Load visits data\n",
    "visits_df = pd.read_csv(\"../data/raw/visits.csv\")\n",
    "\n",
    "# Preview the data\n",
    "visits_df.head()\n"
   ]
  },
  {
   "cell_type": "markdown",
   "id": "723cc34b-a81d-443d-8d4d-d71bbc752793",
   "metadata": {},
   "source": [
    "# Check Missing Values"
   ]
  },
  {
   "cell_type": "code",
   "execution_count": 6,
   "id": "aeb64354-91cb-49c8-97f2-622dc1cc62e3",
   "metadata": {},
   "outputs": [
    {
     "data": {
      "text/plain": [
       "visit_id        0\n",
       "patient_id      0\n",
       "doctor_id       0\n",
       "visit_date      0\n",
       "reason          0\n",
       "diagnosis       0\n",
       "prescription    0\n",
       "cost            0\n",
       "dtype: int64"
      ]
     },
     "execution_count": 6,
     "metadata": {},
     "output_type": "execute_result"
    }
   ],
   "source": [
    "visits_df.isnull().sum()\n"
   ]
  },
  {
   "cell_type": "markdown",
   "id": "15c6e8ac-0cbc-468e-ae6f-fdb1964bc6cb",
   "metadata": {},
   "source": [
    "# Drop Duplicates"
   ]
  },
  {
   "cell_type": "code",
   "execution_count": 10,
   "id": "fed5483f-c486-49c8-8896-877f375e2e9a",
   "metadata": {},
   "outputs": [],
   "source": [
    "visits_df.drop_duplicates(inplace=True)\n"
   ]
  },
  {
   "cell_type": "markdown",
   "id": "0bd407a1-d54c-4306-8699-a24f9bf676c3",
   "metadata": {},
   "source": [
    "# Convert visit_date to Datetime"
   ]
  },
  {
   "cell_type": "code",
   "execution_count": 12,
   "id": "ca64f270-2cb4-4f5b-992d-a0a3422a821e",
   "metadata": {},
   "outputs": [],
   "source": [
    "visits_df['visit_date'] = pd.to_datetime(visits_df['visit_date'])\n"
   ]
  },
  {
   "cell_type": "markdown",
   "id": "cef3504f-2c2a-464b-9015-b4bf8177df76",
   "metadata": {},
   "source": [
    "# Clean Text Columns (Should be in English)"
   ]
  },
  {
   "cell_type": "code",
   "execution_count": 16,
   "id": "c9432ee0-b39c-400e-917c-edeaa676975c",
   "metadata": {},
   "outputs": [
    {
     "data": {
      "text/html": [
       "<div>\n",
       "<style scoped>\n",
       "    .dataframe tbody tr th:only-of-type {\n",
       "        vertical-align: middle;\n",
       "    }\n",
       "\n",
       "    .dataframe tbody tr th {\n",
       "        vertical-align: top;\n",
       "    }\n",
       "\n",
       "    .dataframe thead th {\n",
       "        text-align: right;\n",
       "    }\n",
       "</style>\n",
       "<table border=\"1\" class=\"dataframe\">\n",
       "  <thead>\n",
       "    <tr style=\"text-align: right;\">\n",
       "      <th></th>\n",
       "      <th>reason</th>\n",
       "      <th>prescription</th>\n",
       "    </tr>\n",
       "  </thead>\n",
       "  <tbody>\n",
       "    <tr>\n",
       "      <th>759</th>\n",
       "      <td>Flu symptoms</td>\n",
       "      <td>Blood test required</td>\n",
       "    </tr>\n",
       "    <tr>\n",
       "      <th>359</th>\n",
       "      <td>Flu symptoms</td>\n",
       "      <td>Blood test required</td>\n",
       "    </tr>\n",
       "    <tr>\n",
       "      <th>421</th>\n",
       "      <td>Headache</td>\n",
       "      <td>Pain relief medication</td>\n",
       "    </tr>\n",
       "    <tr>\n",
       "      <th>823</th>\n",
       "      <td>Routine Checkup</td>\n",
       "      <td>Start insulin</td>\n",
       "    </tr>\n",
       "    <tr>\n",
       "      <th>285</th>\n",
       "      <td>Follow-up visit</td>\n",
       "      <td>Advised MRI scan</td>\n",
       "    </tr>\n",
       "  </tbody>\n",
       "</table>\n",
       "</div>"
      ],
      "text/plain": [
       "              reason            prescription\n",
       "759     Flu symptoms     Blood test required\n",
       "359     Flu symptoms     Blood test required\n",
       "421         Headache  Pain relief medication\n",
       "823  Routine Checkup           Start insulin\n",
       "285  Follow-up visit        Advised MRI scan"
      ]
     },
     "execution_count": 16,
     "metadata": {},
     "output_type": "execute_result"
    }
   ],
   "source": [
    "visits_df[['reason', 'prescription']].sample(5)\n"
   ]
  },
  {
   "cell_type": "markdown",
   "id": "d8c565ec-5cd9-4aaf-b719-0154f6ed2461",
   "metadata": {},
   "source": [
    "# Format Cost Column"
   ]
  },
  {
   "cell_type": "code",
   "execution_count": 19,
   "id": "9b5765e7-bbe1-4be8-bb07-dc3353ac56af",
   "metadata": {},
   "outputs": [],
   "source": [
    "visits_df['cost'] = pd.to_numeric(visits_df['cost'], errors='coerce')\n"
   ]
  },
  {
   "cell_type": "code",
   "execution_count": 21,
   "id": "bd5e13c2-7ed3-43b5-ba53-56c9930ae773",
   "metadata": {},
   "outputs": [
    {
     "data": {
      "text/plain": [
       "count    1000.000000\n",
       "mean     2522.225000\n",
       "std      1447.632005\n",
       "min       103.000000\n",
       "25%      1233.000000\n",
       "50%      2578.500000\n",
       "75%      3795.000000\n",
       "max      4994.000000\n",
       "Name: cost, dtype: float64"
      ]
     },
     "execution_count": 21,
     "metadata": {},
     "output_type": "execute_result"
    }
   ],
   "source": [
    "visits_df['cost'].describe()\n"
   ]
  },
  {
   "cell_type": "markdown",
   "id": "1b80d75b-0911-46e0-9562-3b7bb2c0f7f3",
   "metadata": {},
   "source": [
    "# Save the Cleaned File"
   ]
  },
  {
   "cell_type": "code",
   "execution_count": 26,
   "id": "3a0a928e-995d-4159-b193-3d68d35a8fa0",
   "metadata": {},
   "outputs": [
    {
     "name": "stdout",
     "output_type": "stream",
     "text": [
      "Cleaned visits.csv saved.\n"
     ]
    }
   ],
   "source": [
    "visits_df.to_csv(\"../data/cleaned/visits_cleaned.csv\", index=False)\n",
    "print(\"Cleaned visits.csv saved.\")\n"
   ]
  },
  {
   "cell_type": "code",
   "execution_count": null,
   "id": "3a8d50d4-6b7d-4ee2-b59c-272e5f39c67e",
   "metadata": {},
   "outputs": [],
   "source": []
  }
 ],
 "metadata": {
  "kernelspec": {
   "display_name": "Python 3 (ipykernel)",
   "language": "python",
   "name": "python3"
  },
  "language_info": {
   "codemirror_mode": {
    "name": "ipython",
    "version": 3
   },
   "file_extension": ".py",
   "mimetype": "text/x-python",
   "name": "python",
   "nbconvert_exporter": "python",
   "pygments_lexer": "ipython3",
   "version": "3.12.7"
  }
 },
 "nbformat": 4,
 "nbformat_minor": 5
}
