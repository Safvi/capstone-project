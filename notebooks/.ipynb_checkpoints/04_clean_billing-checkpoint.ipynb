{
 "cells": [
  {
   "cell_type": "code",
   "execution_count": 2,
   "id": "b85de6f9-27bd-43ef-bd3d-6a39d92b7da8",
   "metadata": {},
   "outputs": [
    {
     "data": {
      "text/html": [
       "<div>\n",
       "<style scoped>\n",
       "    .dataframe tbody tr th:only-of-type {\n",
       "        vertical-align: middle;\n",
       "    }\n",
       "\n",
       "    .dataframe tbody tr th {\n",
       "        vertical-align: top;\n",
       "    }\n",
       "\n",
       "    .dataframe thead th {\n",
       "        text-align: right;\n",
       "    }\n",
       "</style>\n",
       "<table border=\"1\" class=\"dataframe\">\n",
       "  <thead>\n",
       "    <tr style=\"text-align: right;\">\n",
       "      <th></th>\n",
       "      <th>billing_id</th>\n",
       "      <th>visit_id</th>\n",
       "      <th>insurance_provider</th>\n",
       "      <th>amount_paid</th>\n",
       "      <th>payment_date</th>\n",
       "    </tr>\n",
       "  </thead>\n",
       "  <tbody>\n",
       "    <tr>\n",
       "      <th>0</th>\n",
       "      <td>1</td>\n",
       "      <td>1</td>\n",
       "      <td>Blue Cross</td>\n",
       "      <td>405.85</td>\n",
       "      <td>2022-10-30</td>\n",
       "    </tr>\n",
       "    <tr>\n",
       "      <th>1</th>\n",
       "      <td>2</td>\n",
       "      <td>2</td>\n",
       "      <td>United Health</td>\n",
       "      <td>736.87</td>\n",
       "      <td>2024-10-03</td>\n",
       "    </tr>\n",
       "    <tr>\n",
       "      <th>2</th>\n",
       "      <td>3</td>\n",
       "      <td>3</td>\n",
       "      <td>Cigna</td>\n",
       "      <td>3923.57</td>\n",
       "      <td>2023-04-01</td>\n",
       "    </tr>\n",
       "    <tr>\n",
       "      <th>3</th>\n",
       "      <td>4</td>\n",
       "      <td>4</td>\n",
       "      <td>Aetna</td>\n",
       "      <td>3836.85</td>\n",
       "      <td>2024-01-23</td>\n",
       "    </tr>\n",
       "    <tr>\n",
       "      <th>4</th>\n",
       "      <td>5</td>\n",
       "      <td>5</td>\n",
       "      <td>Self-Pay</td>\n",
       "      <td>3252.24</td>\n",
       "      <td>2025-07-12</td>\n",
       "    </tr>\n",
       "  </tbody>\n",
       "</table>\n",
       "</div>"
      ],
      "text/plain": [
       "   billing_id  visit_id insurance_provider  amount_paid payment_date\n",
       "0           1         1         Blue Cross       405.85   2022-10-30\n",
       "1           2         2      United Health       736.87   2024-10-03\n",
       "2           3         3              Cigna      3923.57   2023-04-01\n",
       "3           4         4              Aetna      3836.85   2024-01-23\n",
       "4           5         5           Self-Pay      3252.24   2025-07-12"
      ]
     },
     "execution_count": 2,
     "metadata": {},
     "output_type": "execute_result"
    }
   ],
   "source": [
    "import pandas as pd\n",
    "\n",
    "# Load billing data\n",
    "billing_df = pd.read_csv(\"../data/raw/billing.csv\")\n",
    "\n",
    "# Preview it\n",
    "billing_df.head()\n"
   ]
  },
  {
   "cell_type": "markdown",
   "id": "0e5b86ed-135f-4cc9-96e1-888606d2ec99",
   "metadata": {},
   "source": [
    "# Check for Nulls and Duplicates"
   ]
  },
  {
   "cell_type": "code",
   "execution_count": 5,
   "id": "bd16eae5-3e70-49c0-ae45-e8c35e6e15b4",
   "metadata": {},
   "outputs": [
    {
     "data": {
      "text/plain": [
       "0"
      ]
     },
     "execution_count": 5,
     "metadata": {},
     "output_type": "execute_result"
    }
   ],
   "source": [
    "billing_df.isnull().sum()\n",
    "billing_df.duplicated().sum()\n"
   ]
  },
  {
   "cell_type": "markdown",
   "id": "5d620107-0078-491e-b919-8c1851150bcc",
   "metadata": {},
   "source": [
    "# Convert payment_date to Datetime"
   ]
  },
  {
   "cell_type": "code",
   "execution_count": 10,
   "id": "93805c8f-586e-4424-b51d-b2c2ab2437ec",
   "metadata": {},
   "outputs": [],
   "source": [
    "billing_df['payment_date'] = pd.to_datetime(billing_df['payment_date'])\n",
    "\n"
   ]
  },
  {
   "cell_type": "markdown",
   "id": "80cf25d6-78b1-4c5b-9cfa-d7a573573afe",
   "metadata": {},
   "source": [
    "# Ensure amount_paid is Numeric"
   ]
  },
  {
   "cell_type": "code",
   "execution_count": 13,
   "id": "b20e6d8e-2bea-48d8-ab25-ae15ea6f09e7",
   "metadata": {},
   "outputs": [
    {
     "data": {
      "text/plain": [
       "count    1000.000000\n",
       "mean     2270.649060\n",
       "std      1313.595331\n",
       "min        96.440000\n",
       "25%      1106.710000\n",
       "50%      2294.725000\n",
       "75%      3386.227500\n",
       "max      4948.270000\n",
       "Name: amount_paid, dtype: float64"
      ]
     },
     "execution_count": 13,
     "metadata": {},
     "output_type": "execute_result"
    }
   ],
   "source": [
    "billing_df['amount_paid'] = pd.to_numeric(billing_df['amount_paid'], errors='coerce')\n",
    "billing_df['amount_paid'].describe()\n"
   ]
  },
  {
   "cell_type": "markdown",
   "id": "9eac67eb-0689-43b6-9601-c1f5a6cc5a9e",
   "metadata": {},
   "source": [
    "# Save the Cleaned File"
   ]
  },
  {
   "cell_type": "code",
   "execution_count": 16,
   "id": "ba92a098-9161-4e2b-bfed-7975c654733c",
   "metadata": {},
   "outputs": [
    {
     "name": "stdout",
     "output_type": "stream",
     "text": [
      "Cleaned billing.csv saved successfully.\n"
     ]
    }
   ],
   "source": [
    "billing_df.to_csv(\"../data/cleaned/billing_cleaned.csv\", index=False)\n",
    "print(\"Cleaned billing.csv saved successfully.\")\n"
   ]
  },
  {
   "cell_type": "code",
   "execution_count": null,
   "id": "98b5518b-8043-4ccc-949c-8418051d2fac",
   "metadata": {},
   "outputs": [],
   "source": []
  }
 ],
 "metadata": {
  "kernelspec": {
   "display_name": "Python 3 (ipykernel)",
   "language": "python",
   "name": "python3"
  },
  "language_info": {
   "codemirror_mode": {
    "name": "ipython",
    "version": 3
   },
   "file_extension": ".py",
   "mimetype": "text/x-python",
   "name": "python",
   "nbconvert_exporter": "python",
   "pygments_lexer": "ipython3",
   "version": "3.12.7"
  }
 },
 "nbformat": 4,
 "nbformat_minor": 5
}
