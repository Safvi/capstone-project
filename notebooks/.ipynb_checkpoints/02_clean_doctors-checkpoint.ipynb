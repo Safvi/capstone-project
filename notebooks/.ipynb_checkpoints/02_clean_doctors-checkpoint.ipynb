{
 "cells": [
  {
   "cell_type": "code",
   "execution_count": 2,
   "id": "185df0b7-8a0d-4ecd-8f81-b9f2753449b6",
   "metadata": {},
   "outputs": [
    {
     "data": {
      "text/html": [
       "<div>\n",
       "<style scoped>\n",
       "    .dataframe tbody tr th:only-of-type {\n",
       "        vertical-align: middle;\n",
       "    }\n",
       "\n",
       "    .dataframe tbody tr th {\n",
       "        vertical-align: top;\n",
       "    }\n",
       "\n",
       "    .dataframe thead th {\n",
       "        text-align: right;\n",
       "    }\n",
       "</style>\n",
       "<table border=\"1\" class=\"dataframe\">\n",
       "  <thead>\n",
       "    <tr style=\"text-align: right;\">\n",
       "      <th></th>\n",
       "      <th>doctor_id</th>\n",
       "      <th>name</th>\n",
       "      <th>specialization</th>\n",
       "    </tr>\n",
       "  </thead>\n",
       "  <tbody>\n",
       "    <tr>\n",
       "      <th>0</th>\n",
       "      <td>1</td>\n",
       "      <td>Tamma Corker</td>\n",
       "      <td>Endocrinology</td>\n",
       "    </tr>\n",
       "    <tr>\n",
       "      <th>1</th>\n",
       "      <td>2</td>\n",
       "      <td>Early Bohling</td>\n",
       "      <td>Pediatrics</td>\n",
       "    </tr>\n",
       "    <tr>\n",
       "      <th>2</th>\n",
       "      <td>3</td>\n",
       "      <td>Neel Sexty</td>\n",
       "      <td>Orthopedics</td>\n",
       "    </tr>\n",
       "    <tr>\n",
       "      <th>3</th>\n",
       "      <td>4</td>\n",
       "      <td>Sylvan Tamlett</td>\n",
       "      <td>Orthopedics</td>\n",
       "    </tr>\n",
       "    <tr>\n",
       "      <th>4</th>\n",
       "      <td>5</td>\n",
       "      <td>Sibelle Scarsbrick</td>\n",
       "      <td>Orthopedics</td>\n",
       "    </tr>\n",
       "  </tbody>\n",
       "</table>\n",
       "</div>"
      ],
      "text/plain": [
       "   doctor_id                name specialization\n",
       "0          1        Tamma Corker  Endocrinology\n",
       "1          2       Early Bohling     Pediatrics\n",
       "2          3          Neel Sexty    Orthopedics\n",
       "3          4      Sylvan Tamlett    Orthopedics\n",
       "4          5  Sibelle Scarsbrick    Orthopedics"
      ]
     },
     "execution_count": 2,
     "metadata": {},
     "output_type": "execute_result"
    }
   ],
   "source": [
    "import pandas as pd\n",
    "\n",
    "# Load raw doctors data\n",
    "doctors_df = pd.read_csv(\"../data/raw/doctors.csv\")\n",
    "\n",
    "# Preview the data\n",
    "doctors_df.head()\n"
   ]
  },
  {
   "cell_type": "markdown",
   "id": "2c7f8130-a3e3-4f6c-b18e-be322062d754",
   "metadata": {},
   "source": [
    "# Check for Missing Values\n",
    "\n"
   ]
  },
  {
   "cell_type": "code",
   "execution_count": 5,
   "id": "dc6bc9df-ba71-459e-8d7e-c004bf3ef24e",
   "metadata": {},
   "outputs": [
    {
     "data": {
      "text/plain": [
       "doctor_id         0\n",
       "name              0\n",
       "specialization    0\n",
       "dtype: int64"
      ]
     },
     "execution_count": 5,
     "metadata": {},
     "output_type": "execute_result"
    }
   ],
   "source": [
    "doctors_df.isnull().sum()\n"
   ]
  },
  {
   "cell_type": "markdown",
   "id": "c7ce744f-457e-4071-b3cd-6771adf43bd3",
   "metadata": {},
   "source": [
    "# Drop Duplicates\n"
   ]
  },
  {
   "cell_type": "code",
   "execution_count": 8,
   "id": "49cb6fd7-cd1b-40fc-824f-c13761f7cc7d",
   "metadata": {},
   "outputs": [],
   "source": [
    "doctors_df.drop_duplicates(inplace=True)\n"
   ]
  },
  {
   "cell_type": "markdown",
   "id": "b4632984-86d1-43a2-b20d-3040756a2b86",
   "metadata": {},
   "source": [
    "# Check Specialization Values\n"
   ]
  },
  {
   "cell_type": "code",
   "execution_count": 13,
   "id": "64aeaa64-e617-4d91-bd4d-c7ae029bd877",
   "metadata": {},
   "outputs": [
    {
     "data": {
      "text/plain": [
       "array(['Endocrinology', 'Pediatrics', 'Orthopedics', 'Neurology',\n",
       "       'General Medicine', 'Psychiatry', 'Dermatology', 'Oncology',\n",
       "       'Gastroenterology', 'Cardiology'], dtype=object)"
      ]
     },
     "execution_count": 13,
     "metadata": {},
     "output_type": "execute_result"
    }
   ],
   "source": [
    "doctors_df['specialization'].unique()"
   ]
  },
  {
   "cell_type": "markdown",
   "id": "446be051-780d-4017-aa70-a2420dac39e9",
   "metadata": {},
   "source": [
    "# Save Cleaned Data"
   ]
  },
  {
   "cell_type": "code",
   "execution_count": 22,
   "id": "15c0a171-6c79-4fa9-a799-fd62be6cd0d0",
   "metadata": {},
   "outputs": [
    {
     "name": "stdout",
     "output_type": "stream",
     "text": [
      "✅ Cleaned doctors.csv saved.\n"
     ]
    }
   ],
   "source": [
    "doctors_df.to_csv(\"../data/cleaned/doctors_cleaned.csv\", index=False)\n",
    "print(\"✅ Cleaned doctors.csv saved.\")\n"
   ]
  },
  {
   "cell_type": "code",
   "execution_count": null,
   "id": "9dc5dc28-f712-425e-b7d9-ec8cec16c398",
   "metadata": {},
   "outputs": [],
   "source": []
  }
 ],
 "metadata": {
  "kernelspec": {
   "display_name": "Python 3 (ipykernel)",
   "language": "python",
   "name": "python3"
  },
  "language_info": {
   "codemirror_mode": {
    "name": "ipython",
    "version": 3
   },
   "file_extension": ".py",
   "mimetype": "text/x-python",
   "name": "python",
   "nbconvert_exporter": "python",
   "pygments_lexer": "ipython3",
   "version": "3.12.7"
  }
 },
 "nbformat": 4,
 "nbformat_minor": 5
}
