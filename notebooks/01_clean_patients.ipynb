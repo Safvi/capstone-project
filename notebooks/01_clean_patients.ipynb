{
 "cells": [
  {
   "cell_type": "code",
   "execution_count": 2,
   "id": "8e0b8bb4-4855-47bd-8a36-9930ba5c91d3",
   "metadata": {},
   "outputs": [
    {
     "data": {
      "text/html": [
       "<div>\n",
       "<style scoped>\n",
       "    .dataframe tbody tr th:only-of-type {\n",
       "        vertical-align: middle;\n",
       "    }\n",
       "\n",
       "    .dataframe tbody tr th {\n",
       "        vertical-align: top;\n",
       "    }\n",
       "\n",
       "    .dataframe thead th {\n",
       "        text-align: right;\n",
       "    }\n",
       "</style>\n",
       "<table border=\"1\" class=\"dataframe\">\n",
       "  <thead>\n",
       "    <tr style=\"text-align: right;\">\n",
       "      <th></th>\n",
       "      <th>patient_id</th>\n",
       "      <th>first_name</th>\n",
       "      <th>last_name</th>\n",
       "      <th>gender</th>\n",
       "      <th>date_of_birth</th>\n",
       "      <th>email</th>\n",
       "    </tr>\n",
       "  </thead>\n",
       "  <tbody>\n",
       "    <tr>\n",
       "      <th>0</th>\n",
       "      <td>1</td>\n",
       "      <td>Trumann</td>\n",
       "      <td>Chasmoor</td>\n",
       "      <td>Male</td>\n",
       "      <td>1986-08-12</td>\n",
       "      <td>tchasmoor0@unblog.fr</td>\n",
       "    </tr>\n",
       "    <tr>\n",
       "      <th>1</th>\n",
       "      <td>2</td>\n",
       "      <td>Kyle</td>\n",
       "      <td>Easton</td>\n",
       "      <td>Female</td>\n",
       "      <td>1965-02-10</td>\n",
       "      <td>keaston1@gizmodo.com</td>\n",
       "    </tr>\n",
       "    <tr>\n",
       "      <th>2</th>\n",
       "      <td>3</td>\n",
       "      <td>Ardelia</td>\n",
       "      <td>Drohun</td>\n",
       "      <td>Female</td>\n",
       "      <td>2013-12-16</td>\n",
       "      <td>adrohun2@ted.com</td>\n",
       "    </tr>\n",
       "    <tr>\n",
       "      <th>3</th>\n",
       "      <td>4</td>\n",
       "      <td>Haze</td>\n",
       "      <td>Brittles</td>\n",
       "      <td>Genderfluid</td>\n",
       "      <td>1976-05-12</td>\n",
       "      <td>hbrittles3@flavors.me</td>\n",
       "    </tr>\n",
       "    <tr>\n",
       "      <th>4</th>\n",
       "      <td>5</td>\n",
       "      <td>Clementia</td>\n",
       "      <td>Grigaut</td>\n",
       "      <td>Female</td>\n",
       "      <td>1951-02-12</td>\n",
       "      <td>cgrigaut4@dell.com</td>\n",
       "    </tr>\n",
       "  </tbody>\n",
       "</table>\n",
       "</div>"
      ],
      "text/plain": [
       "   patient_id first_name last_name       gender date_of_birth  \\\n",
       "0           1    Trumann  Chasmoor         Male    1986-08-12   \n",
       "1           2       Kyle    Easton       Female    1965-02-10   \n",
       "2           3    Ardelia    Drohun       Female    2013-12-16   \n",
       "3           4       Haze  Brittles  Genderfluid    1976-05-12   \n",
       "4           5  Clementia   Grigaut       Female    1951-02-12   \n",
       "\n",
       "                   email  \n",
       "0   tchasmoor0@unblog.fr  \n",
       "1   keaston1@gizmodo.com  \n",
       "2       adrohun2@ted.com  \n",
       "3  hbrittles3@flavors.me  \n",
       "4     cgrigaut4@dell.com  "
      ]
     },
     "execution_count": 2,
     "metadata": {},
     "output_type": "execute_result"
    }
   ],
   "source": [
    "import pandas as pd\n",
    "\n",
    "# Load raw patients data\n",
    "df = pd.read_csv(\"../data/raw/patients.csv\")\n",
    "\n",
    "# Preview the data\n",
    "df.head()\n"
   ]
  },
  {
   "cell_type": "markdown",
   "id": "0509d095-16c4-49a2-bd98-a949040c0d21",
   "metadata": {},
   "source": [
    "# Check for Missing Values"
   ]
  },
  {
   "cell_type": "code",
   "execution_count": 7,
   "id": "9454be17-713b-4a08-82a9-fc0334fc0515",
   "metadata": {},
   "outputs": [
    {
     "data": {
      "text/plain": [
       "patient_id       0\n",
       "first_name       0\n",
       "last_name        0\n",
       "gender           0\n",
       "date_of_birth    0\n",
       "email            0\n",
       "dtype: int64"
      ]
     },
     "execution_count": 7,
     "metadata": {},
     "output_type": "execute_result"
    }
   ],
   "source": [
    "df.isnull().sum()\n"
   ]
  },
  {
   "cell_type": "markdown",
   "id": "c3145ccb-4968-42c7-bc09-51a0ac82f826",
   "metadata": {},
   "source": [
    "# Drop Duplicates (if any)"
   ]
  },
  {
   "cell_type": "code",
   "execution_count": 12,
   "id": "54c42804-dda3-4976-a6e9-a1675b6fd8a3",
   "metadata": {},
   "outputs": [],
   "source": [
    "df.drop_duplicates(inplace=True)\n"
   ]
  },
  {
   "cell_type": "markdown",
   "id": "037373be-c42a-464a-9241-664c95236025",
   "metadata": {},
   "source": [
    "# Format Birth_date Column\n"
   ]
  },
  {
   "cell_type": "code",
   "execution_count": 18,
   "id": "cb39c218-8130-4ee3-a956-d2f34324346b",
   "metadata": {},
   "outputs": [],
   "source": [
    "df['date_of_birth'] = pd.to_datetime(df['date_of_birth'])\n"
   ]
  },
  {
   "cell_type": "markdown",
   "id": "e1e17cc9-6396-474a-b1ac-a501a42a0e4f",
   "metadata": {},
   "source": [
    "# Check Data Types"
   ]
  },
  {
   "cell_type": "code",
   "execution_count": 21,
   "id": "404db7a1-73da-49cf-aa25-7a3782379d7f",
   "metadata": {},
   "outputs": [
    {
     "data": {
      "text/plain": [
       "patient_id                int64\n",
       "first_name               object\n",
       "last_name                object\n",
       "gender                   object\n",
       "date_of_birth    datetime64[ns]\n",
       "email                    object\n",
       "dtype: object"
      ]
     },
     "execution_count": 21,
     "metadata": {},
     "output_type": "execute_result"
    }
   ],
   "source": [
    "df.dtypes\n"
   ]
  },
  {
   "cell_type": "markdown",
   "id": "0ff0abe6-e476-411f-9471-77ea27a241d9",
   "metadata": {},
   "source": [
    "# Preview Cleaned Data"
   ]
  },
  {
   "cell_type": "code",
   "execution_count": 24,
   "id": "a9420da6-6011-4069-83a2-000ffea6bf0a",
   "metadata": {},
   "outputs": [
    {
     "data": {
      "text/html": [
       "<div>\n",
       "<style scoped>\n",
       "    .dataframe tbody tr th:only-of-type {\n",
       "        vertical-align: middle;\n",
       "    }\n",
       "\n",
       "    .dataframe tbody tr th {\n",
       "        vertical-align: top;\n",
       "    }\n",
       "\n",
       "    .dataframe thead th {\n",
       "        text-align: right;\n",
       "    }\n",
       "</style>\n",
       "<table border=\"1\" class=\"dataframe\">\n",
       "  <thead>\n",
       "    <tr style=\"text-align: right;\">\n",
       "      <th></th>\n",
       "      <th>patient_id</th>\n",
       "      <th>first_name</th>\n",
       "      <th>last_name</th>\n",
       "      <th>gender</th>\n",
       "      <th>date_of_birth</th>\n",
       "      <th>email</th>\n",
       "    </tr>\n",
       "  </thead>\n",
       "  <tbody>\n",
       "    <tr>\n",
       "      <th>0</th>\n",
       "      <td>1</td>\n",
       "      <td>Trumann</td>\n",
       "      <td>Chasmoor</td>\n",
       "      <td>Male</td>\n",
       "      <td>1986-08-12</td>\n",
       "      <td>tchasmoor0@unblog.fr</td>\n",
       "    </tr>\n",
       "    <tr>\n",
       "      <th>1</th>\n",
       "      <td>2</td>\n",
       "      <td>Kyle</td>\n",
       "      <td>Easton</td>\n",
       "      <td>Female</td>\n",
       "      <td>1965-02-10</td>\n",
       "      <td>keaston1@gizmodo.com</td>\n",
       "    </tr>\n",
       "    <tr>\n",
       "      <th>2</th>\n",
       "      <td>3</td>\n",
       "      <td>Ardelia</td>\n",
       "      <td>Drohun</td>\n",
       "      <td>Female</td>\n",
       "      <td>2013-12-16</td>\n",
       "      <td>adrohun2@ted.com</td>\n",
       "    </tr>\n",
       "    <tr>\n",
       "      <th>3</th>\n",
       "      <td>4</td>\n",
       "      <td>Haze</td>\n",
       "      <td>Brittles</td>\n",
       "      <td>Genderfluid</td>\n",
       "      <td>1976-05-12</td>\n",
       "      <td>hbrittles3@flavors.me</td>\n",
       "    </tr>\n",
       "    <tr>\n",
       "      <th>4</th>\n",
       "      <td>5</td>\n",
       "      <td>Clementia</td>\n",
       "      <td>Grigaut</td>\n",
       "      <td>Female</td>\n",
       "      <td>1951-02-12</td>\n",
       "      <td>cgrigaut4@dell.com</td>\n",
       "    </tr>\n",
       "  </tbody>\n",
       "</table>\n",
       "</div>"
      ],
      "text/plain": [
       "   patient_id first_name last_name       gender date_of_birth  \\\n",
       "0           1    Trumann  Chasmoor         Male    1986-08-12   \n",
       "1           2       Kyle    Easton       Female    1965-02-10   \n",
       "2           3    Ardelia    Drohun       Female    2013-12-16   \n",
       "3           4       Haze  Brittles  Genderfluid    1976-05-12   \n",
       "4           5  Clementia   Grigaut       Female    1951-02-12   \n",
       "\n",
       "                   email  \n",
       "0   tchasmoor0@unblog.fr  \n",
       "1   keaston1@gizmodo.com  \n",
       "2       adrohun2@ted.com  \n",
       "3  hbrittles3@flavors.me  \n",
       "4     cgrigaut4@dell.com  "
      ]
     },
     "execution_count": 24,
     "metadata": {},
     "output_type": "execute_result"
    }
   ],
   "source": [
    "df.head()\n"
   ]
  },
  {
   "cell_type": "markdown",
   "id": "785556bb-2198-420c-b6c8-ebae29064b82",
   "metadata": {},
   "source": [
    "# Save Cleaned Data"
   ]
  },
  {
   "cell_type": "code",
   "execution_count": 27,
   "id": "7ea36717-6e05-4cef-acfc-1c98a0f8b21d",
   "metadata": {},
   "outputs": [
    {
     "name": "stdout",
     "output_type": "stream",
     "text": [
      "✅ Cleaned patients.csv saved successfully.\n"
     ]
    }
   ],
   "source": [
    "df.to_csv(\"../data/cleaned/patients_cleaned.csv\", index=False)\n",
    "print(\"✅ Cleaned patients.csv saved successfully.\")\n"
   ]
  },
  {
   "cell_type": "code",
   "execution_count": null,
   "id": "c3ca6c95-310e-43a8-810e-941f1c5364a5",
   "metadata": {},
   "outputs": [],
   "source": []
  }
 ],
 "metadata": {
  "kernelspec": {
   "display_name": "Python 3 (ipykernel)",
   "language": "python",
   "name": "python3"
  },
  "language_info": {
   "codemirror_mode": {
    "name": "ipython",
    "version": 3
   },
   "file_extension": ".py",
   "mimetype": "text/x-python",
   "name": "python",
   "nbconvert_exporter": "python",
   "pygments_lexer": "ipython3",
   "version": "3.12.7"
  }
 },
 "nbformat": 4,
 "nbformat_minor": 5
}
