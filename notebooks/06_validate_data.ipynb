{
 "cells": [
  {
   "cell_type": "code",
   "execution_count": 2,
   "id": "fb30f148-fb77-4b1a-ba69-227a3013ebcf",
   "metadata": {},
   "outputs": [],
   "source": [
    "import pandas as pd\n"
   ]
  },
  {
   "cell_type": "markdown",
   "id": "daf3d725-9e57-4820-a721-d8db00783a4f",
   "metadata": {},
   "source": [
    "# Load Integrated Dataset"
   ]
  },
  {
   "cell_type": "code",
   "execution_count": 5,
   "id": "6e1c204a-fae7-4132-8552-a249ea712691",
   "metadata": {},
   "outputs": [
    {
     "name": "stdout",
     "output_type": "stream",
     "text": [
      "Data loaded successfully!\n"
     ]
    }
   ],
   "source": [
    "df = pd.read_csv(\"../data/cleaned/final_dataset.csv\")\n",
    "print(\"Data loaded successfully!\")\n"
   ]
  },
  {
   "cell_type": "markdown",
   "id": "7ad2a331-de55-4e9d-a4c7-a718901037c8",
   "metadata": {},
   "source": [
    "# Show Basic Info\n"
   ]
  },
  {
   "cell_type": "code",
   "execution_count": 8,
   "id": "5009ca5f-f05b-4083-b376-b3053f310c40",
   "metadata": {},
   "outputs": [
    {
     "name": "stdout",
     "output_type": "stream",
     "text": [
      "<class 'pandas.core.frame.DataFrame'>\n",
      "RangeIndex: 1000 entries, 0 to 999\n",
      "Data columns (total 19 columns):\n",
      " #   Column              Non-Null Count  Dtype  \n",
      "---  ------              --------------  -----  \n",
      " 0   visit_id            1000 non-null   int64  \n",
      " 1   patient_id          1000 non-null   int64  \n",
      " 2   doctor_id           1000 non-null   int64  \n",
      " 3   visit_date          1000 non-null   object \n",
      " 4   reason              1000 non-null   object \n",
      " 5   diagnosis           1000 non-null   object \n",
      " 6   prescription        1000 non-null   object \n",
      " 7   cost                1000 non-null   int64  \n",
      " 8   first_name          1000 non-null   object \n",
      " 9   last_name           1000 non-null   object \n",
      " 10  gender              1000 non-null   object \n",
      " 11  date_of_birth       1000 non-null   object \n",
      " 12  email               1000 non-null   object \n",
      " 13  name                1000 non-null   object \n",
      " 14  specialization      1000 non-null   object \n",
      " 15  billing_id          1000 non-null   int64  \n",
      " 16  insurance_provider  1000 non-null   object \n",
      " 17  amount_paid         1000 non-null   float64\n",
      " 18  payment_date        1000 non-null   object \n",
      "dtypes: float64(1), int64(5), object(13)\n",
      "memory usage: 148.6+ KB\n"
     ]
    }
   ],
   "source": [
    "df.info()"
   ]
  },
  {
   "cell_type": "markdown",
   "id": "59534448-1043-4ffd-ad91-769f748e44f8",
   "metadata": {},
   "source": [
    "# Check for any Null Values\n"
   ]
  },
  {
   "cell_type": "code",
   "execution_count": 18,
   "id": "f5f36ca1-2d4a-41ce-990a-7a94326ae1b8",
   "metadata": {},
   "outputs": [
    {
     "name": "stdout",
     "output_type": "stream",
     "text": [
      "Null values by column:\n",
      " visit_id              0\n",
      "patient_id            0\n",
      "doctor_id             0\n",
      "visit_date            0\n",
      "reason                0\n",
      "diagnosis             0\n",
      "prescription          0\n",
      "cost                  0\n",
      "first_name            0\n",
      "last_name             0\n",
      "gender                0\n",
      "date_of_birth         0\n",
      "email                 0\n",
      "name                  0\n",
      "specialization        0\n",
      "billing_id            0\n",
      "insurance_provider    0\n",
      "amount_paid           0\n",
      "payment_date          0\n",
      "dtype: int64\n"
     ]
    }
   ],
   "source": [
    "nulls = df.isnull().sum()\n",
    "print(\"Null values by column:\\n\", nulls)\n"
   ]
  },
  {
   "cell_type": "markdown",
   "id": "e604811d-a680-42ff-9c25-7210de49cc66",
   "metadata": {},
   "source": [
    "# Confirm Data Types"
   ]
  },
  {
   "cell_type": "code",
   "execution_count": 15,
   "id": "174883bf-17b0-4490-af6b-61273d20474c",
   "metadata": {},
   "outputs": [
    {
     "name": "stdout",
     "output_type": "stream",
     "text": [
      "Data types:\n",
      " visit_id                int64\n",
      "patient_id              int64\n",
      "doctor_id               int64\n",
      "visit_date             object\n",
      "reason                 object\n",
      "diagnosis              object\n",
      "prescription           object\n",
      "cost                    int64\n",
      "first_name             object\n",
      "last_name              object\n",
      "gender                 object\n",
      "date_of_birth          object\n",
      "email                  object\n",
      "name                   object\n",
      "specialization         object\n",
      "billing_id              int64\n",
      "insurance_provider     object\n",
      "amount_paid           float64\n",
      "payment_date           object\n",
      "dtype: object\n"
     ]
    }
   ],
   "source": [
    "print(\"Data types:\\n\", df.dtypes)\n"
   ]
  },
  {
   "cell_type": "markdown",
   "id": "1a7d38f9-4ac8-4714-ab70-8f032f3bb372",
   "metadata": {},
   "source": [
    "# Check If any Billing Amounts are Suspicious\n"
   ]
  },
  {
   "cell_type": "code",
   "execution_count": 22,
   "id": "29402bfd-6b33-45d4-84e2-73a717bc69ed",
   "metadata": {},
   "outputs": [
    {
     "name": "stdout",
     "output_type": "stream",
     "text": [
      "Amount paid summary:\n",
      " count    1000.000000\n",
      "mean     2270.649060\n",
      "std      1313.595331\n",
      "min        96.440000\n",
      "25%      1106.710000\n",
      "50%      2294.725000\n",
      "75%      3386.227500\n",
      "max      4948.270000\n",
      "Name: amount_paid, dtype: float64\n",
      "Payments < 0:\n",
      " Empty DataFrame\n",
      "Columns: [visit_id, patient_id, doctor_id, visit_date, reason, diagnosis, prescription, cost, first_name, last_name, gender, date_of_birth, email, name, specialization, billing_id, insurance_provider, amount_paid, payment_date]\n",
      "Index: []\n"
     ]
    }
   ],
   "source": [
    "print(\"Amount paid summary:\\n\", df['amount_paid'].describe())\n",
    "print(\"Payments < 0:\\n\", df[df['amount_paid'] < 0])\n"
   ]
  },
  {
   "cell_type": "markdown",
   "id": "d0395b1b-71bf-4a2f-b175-016361d619d8",
   "metadata": {},
   "source": [
    "# Check Unique visit IDs vs billing\n"
   ]
  },
  {
   "cell_type": "code",
   "execution_count": 25,
   "id": "3ac2b70d-d407-4417-bb1b-2edce0aa2a1f",
   "metadata": {},
   "outputs": [
    {
     "name": "stdout",
     "output_type": "stream",
     "text": [
      "Unique visit_id in visits: 1000\n",
      "Unique billing entries: 1000\n"
     ]
    }
   ],
   "source": [
    "print(\"Unique visit_id in visits:\", df['visit_id'].nunique())\n",
    "print(\"Unique billing entries:\", df['billing_id'].nunique())\n"
   ]
  },
  {
   "cell_type": "markdown",
   "id": "7b741fcb-9ef9-48b5-8cd8-c25f7e1ab849",
   "metadata": {},
   "source": [
    "# Check for Duplicate Rows\n"
   ]
  },
  {
   "cell_type": "code",
   "execution_count": 28,
   "id": "4d8f3d50-58aa-450d-bee1-d4451a775d34",
   "metadata": {},
   "outputs": [
    {
     "name": "stdout",
     "output_type": "stream",
     "text": [
      "Duplicate records: 0\n"
     ]
    }
   ],
   "source": [
    "duplicates = df.duplicated().sum()\n",
    "print(f\"Duplicate records: {duplicates}\")\n"
   ]
  },
  {
   "cell_type": "markdown",
   "id": "d6e7da19-9c48-4d1e-8ed1-9d00215cbb6f",
   "metadata": {},
   "source": [
    "# Save Validation Summary Report"
   ]
  },
  {
   "cell_type": "code",
   "execution_count": 33,
   "id": "a51a37ae-d439-47ed-863b-c23b01e86d1d",
   "metadata": {},
   "outputs": [
    {
     "name": "stdout",
     "output_type": "stream",
     "text": [
      "Summary exported\n"
     ]
    }
   ],
   "source": [
    "df.describe().to_csv(\"../logs/validation_summary.csv\")\n",
    "print(\"Summary exported\")\n"
   ]
  },
  {
   "cell_type": "code",
   "execution_count": null,
   "id": "921df060-89c0-4491-b3fd-c553a572200a",
   "metadata": {},
   "outputs": [],
   "source": []
  }
 ],
 "metadata": {
  "kernelspec": {
   "display_name": "Python 3 (ipykernel)",
   "language": "python",
   "name": "python3"
  },
  "language_info": {
   "codemirror_mode": {
    "name": "ipython",
    "version": 3
   },
   "file_extension": ".py",
   "mimetype": "text/x-python",
   "name": "python",
   "nbconvert_exporter": "python",
   "pygments_lexer": "ipython3",
   "version": "3.12.7"
  }
 },
 "nbformat": 4,
 "nbformat_minor": 5
}
