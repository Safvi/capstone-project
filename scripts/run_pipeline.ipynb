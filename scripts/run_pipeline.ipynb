{
 "cells": [
  {
   "cell_type": "code",
   "execution_count": 1,
   "id": "85397023-a0e3-4f2b-be81-3ae95493d90e",
   "metadata": {},
   "outputs": [
    {
     "name": "stdout",
     "output_type": "stream",
     "text": [
      "Running data pipeline...\n",
      "Pipeline completed.\n"
     ]
    }
   ],
   "source": [
    "import os\n",
    "import logging\n",
    "\n",
    "# Setup logging\n",
    "logging.basicConfig(\n",
    "    filename='../logs/pipeline.log',\n",
    "    level=logging.INFO,\n",
    "    format='%(asctime)s - %(message)s'\n",
    ")\n",
    "\n",
    "print(\"Running data pipeline...\")\n",
    "\n",
    "try:\n",
    "    os.system(\"jupyter nbconvert --to notebook --execute ../notebooks/01_clean_patients.ipynb\")\n",
    "    logging.info(\"Cleaned patients data\")\n",
    "    \n",
    "    os.system(\"jupyter nbconvert --to notebook --execute ../notebooks/02_clean_doctors.ipynb\")\n",
    "    logging.info(\"Cleaned doctors data\")\n",
    "\n",
    "    os.system(\"jupyter nbconvert --to notebook --execute ../notebooks/03_clean_visits.ipynb\")\n",
    "    logging.info(\"Cleaned visits data\")\n",
    "\n",
    "    os.system(\"jupyter nbconvert --to notebook --execute ../notebooks/04_clean_billing.ipynb\")\n",
    "    logging.info(\"Cleaned billing data\")\n",
    "\n",
    "    os.system(\"jupyter nbconvert --to notebook --execute ../notebooks/05_integrate_data.ipynb\")\n",
    "    logging.info(\"Integrated all data\")\n",
    "\n",
    "except Exception as e:\n",
    "    logging.error(\"Pipeline failed: \" + str(e))\n",
    "\n",
    "print(\"Pipeline completed.\")\n"
   ]
  },
  {
   "cell_type": "code",
   "execution_count": null,
   "id": "e32d2501-8d10-499f-a2d8-8d3661fa782f",
   "metadata": {},
   "outputs": [],
   "source": []
  }
 ],
 "metadata": {
  "kernelspec": {
   "display_name": "Python 3 (ipykernel)",
   "language": "python",
   "name": "python3"
  },
  "language_info": {
   "codemirror_mode": {
    "name": "ipython",
    "version": 3
   },
   "file_extension": ".py",
   "mimetype": "text/x-python",
   "name": "python",
   "nbconvert_exporter": "python",
   "pygments_lexer": "ipython3",
   "version": "3.12.7"
  }
 },
 "nbformat": 4,
 "nbformat_minor": 5
}
